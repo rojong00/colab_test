{
  "nbformat": 4,
  "nbformat_minor": 0,
  "metadata": {
    "colab": {
      "name": "movielens_knn.ipynb의 사본",
      "provenance": [],
      "collapsed_sections": [],
      "include_colab_link": true
    },
    "kernelspec": {
      "name": "python3",
      "display_name": "Python 3"
    }
  },
  "cells": [
    {
      "cell_type": "markdown",
      "metadata": {
        "id": "view-in-github",
        "colab_type": "text"
      },
      "source": [
        "<a href=\"https://colab.research.google.com/github/rojong00/colab_test/blob/master/movielens_knn_ipynb%EC%9D%98_%EC%82%AC%EB%B3%B8.ipynb\" target=\"_parent\"><img src=\"https://colab.research.google.com/assets/colab-badge.svg\" alt=\"Open In Colab\"/></a>"
      ]
    },
    {
      "cell_type": "code",
      "metadata": {
        "colab": {
          "base_uri": "https://localhost:8080/"
        },
        "id": "W4kxq5TiXElM",
        "outputId": "5eaad93d-efdb-48d1-860f-a51481f5e8ad"
      },
      "source": [
        "from google.colab import drive\n",
        "drive.mount('/content/drive')"
      ],
      "execution_count": 1,
      "outputs": [
        {
          "output_type": "stream",
          "text": [
            "Mounted at /content/drive\n"
          ],
          "name": "stdout"
        }
      ]
    },
    {
      "cell_type": "code",
      "metadata": {
        "id": "Lwfx2ETyY6B9"
      },
      "source": [
        "file1 = '/content/drive/My drive/ratings.csv'\n",
        "file2 = '/content/drive/My drive/movies.csv'"
      ],
      "execution_count": null,
      "outputs": []
    },
    {
      "cell_type": "code",
      "metadata": {
        "id": "27sv4-pUZKaj"
      },
      "source": [
        "import pandas as pd\n",
        "import numpy as np\n",
        "import glob\n",
        "import matplotlib.pyplot as plt\n",
        "from matplotlib.backends.backend_pdf import PdfPages\n",
        "import time"
      ],
      "execution_count": null,
      "outputs": []
    },
    {
      "cell_type": "code",
      "metadata": {
        "id": "LgoNK05NZNQQ"
      },
      "source": [
        "df_ratings = pd.read_csv(file1)\n",
        "df_movies = pd.read_csv(file2)"
      ],
      "execution_count": null,
      "outputs": []
    },
    {
      "cell_type": "code",
      "metadata": {
        "id": "KsYuzwq6Visw"
      },
      "source": [
        "df= pd.merge(df_ratings.drop('timestamp', axis=1), df_movies.drop('genres', axis=1), how='outer', on='movieId') [['movieId','userId','rating']].sort_values(by=['movieId']).fillna(0)"
      ],
      "execution_count": null,
      "outputs": []
    },
    {
      "cell_type": "code",
      "metadata": {
        "id": "BZvTolMywxBm"
      },
      "source": [
        "genre_list = ['Adventure',\n",
        " 'Animation',\n",
        " 'Children',\n",
        " 'Comedy',\n",
        " 'Fantasy',\n",
        " 'Romance',\n",
        " 'Drama',\n",
        " 'Action',\n",
        " 'Crime',\n",
        " 'Thriller',\n",
        " 'Horror',\n",
        " 'Mystery',\n",
        " 'Sci-Fi',\n",
        " 'IMAX',\n",
        " 'Documentary',\n",
        " 'War',\n",
        " 'Musical',\n",
        " 'Western',\n",
        " 'Film-Noir',\n",
        " '(no genres listed)']"
      ],
      "execution_count": null,
      "outputs": []
    },
    {
      "cell_type": "code",
      "metadata": {
        "colab": {
          "base_uri": "https://localhost:8080/",
          "height": 197
        },
        "id": "yopZzBhtZyAx",
        "outputId": "e852f819-4f26-4aa7-c726-bbcd5d7ac587"
      },
      "source": [
        "df.head()"
      ],
      "execution_count": null,
      "outputs": [
        {
          "output_type": "execute_result",
          "data": {
            "text/html": [
              "<div>\n",
              "<style scoped>\n",
              "    .dataframe tbody tr th:only-of-type {\n",
              "        vertical-align: middle;\n",
              "    }\n",
              "\n",
              "    .dataframe tbody tr th {\n",
              "        vertical-align: top;\n",
              "    }\n",
              "\n",
              "    .dataframe thead th {\n",
              "        text-align: right;\n",
              "    }\n",
              "</style>\n",
              "<table border=\"1\" class=\"dataframe\">\n",
              "  <thead>\n",
              "    <tr style=\"text-align: right;\">\n",
              "      <th></th>\n",
              "      <th>movieId</th>\n",
              "      <th>userId</th>\n",
              "      <th>rating</th>\n",
              "    </tr>\n",
              "  </thead>\n",
              "  <tbody>\n",
              "    <tr>\n",
              "      <th>12440</th>\n",
              "      <td>1</td>\n",
              "      <td>1745.0</td>\n",
              "      <td>4.0</td>\n",
              "    </tr>\n",
              "    <tr>\n",
              "      <th>12262</th>\n",
              "      <td>1</td>\n",
              "      <td>1244.0</td>\n",
              "      <td>4.0</td>\n",
              "    </tr>\n",
              "    <tr>\n",
              "      <th>12261</th>\n",
              "      <td>1</td>\n",
              "      <td>1242.0</td>\n",
              "      <td>4.5</td>\n",
              "    </tr>\n",
              "    <tr>\n",
              "      <th>12260</th>\n",
              "      <td>1</td>\n",
              "      <td>1240.0</td>\n",
              "      <td>5.0</td>\n",
              "    </tr>\n",
              "    <tr>\n",
              "      <th>12259</th>\n",
              "      <td>1</td>\n",
              "      <td>1236.0</td>\n",
              "      <td>3.0</td>\n",
              "    </tr>\n",
              "  </tbody>\n",
              "</table>\n",
              "</div>"
            ],
            "text/plain": [
              "       movieId  userId  rating\n",
              "12440        1  1745.0     4.0\n",
              "12262        1  1244.0     4.0\n",
              "12261        1  1242.0     4.5\n",
              "12260        1  1240.0     5.0\n",
              "12259        1  1236.0     3.0"
            ]
          },
          "metadata": {
            "tags": []
          },
          "execution_count": 15
        }
      ]
    },
    {
      "cell_type": "code",
      "metadata": {
        "id": "75WEOo2WajgZ"
      },
      "source": [
        "from scipy.sparse import csr_matrix\n",
        "# pivot ratings into movie features\n",
        "df_movie_features = df_ratings.pivot(\n",
        "    index='movieId',\n",
        "    columns='userId',\n",
        "    values='rating'\n",
        ").fillna(0)\n",
        "# convert dataframe of movie features to scipy sparse matrix\n",
        "mat_movie_features = csr_matrix(df_movie_features.values)"
      ],
      "execution_count": null,
      "outputs": []
    },
    {
      "cell_type": "code",
      "metadata": {
        "id": "3qWRHTebaoQ2"
      },
      "source": [
        "from sklearn.neighbors import NearestNeighbors\n",
        "model_knn = NearestNeighbors(metric='cosine', algorithm='brute', n_neighbors=20, n_jobs=-1)"
      ],
      "execution_count": null,
      "outputs": []
    },
    {
      "cell_type": "code",
      "metadata": {
        "id": "HmSz6kV3apYl"
      },
      "source": [
        "movieProperties = df.groupby('movieId').agg({'rating': [np.size, np.mean]})\n",
        " \n",
        "movieNumRatings = pd.DataFrame(movieProperties['rating']['size'])\n",
        "movieNormalizedNumRatings = movieNumRatings.apply(lambda x: (x - np.min(x)) / (np.max(x) - np.min(x)))"
      ],
      "execution_count": null,
      "outputs": []
    },
    {
      "cell_type": "code",
      "metadata": {
        "colab": {
          "base_uri": "https://localhost:8080/",
          "height": 197
        },
        "id": "LbMdNSlWc2ql",
        "outputId": "d03d7b61-b02a-4a08-fcd8-6cf6b62b1d80"
      },
      "source": [
        "df_movies.head()"
      ],
      "execution_count": null,
      "outputs": [
        {
          "output_type": "execute_result",
          "data": {
            "text/html": [
              "<div>\n",
              "<style scoped>\n",
              "    .dataframe tbody tr th:only-of-type {\n",
              "        vertical-align: middle;\n",
              "    }\n",
              "\n",
              "    .dataframe tbody tr th {\n",
              "        vertical-align: top;\n",
              "    }\n",
              "\n",
              "    .dataframe thead th {\n",
              "        text-align: right;\n",
              "    }\n",
              "</style>\n",
              "<table border=\"1\" class=\"dataframe\">\n",
              "  <thead>\n",
              "    <tr style=\"text-align: right;\">\n",
              "      <th></th>\n",
              "      <th>movieId</th>\n",
              "      <th>title</th>\n",
              "      <th>genres</th>\n",
              "    </tr>\n",
              "  </thead>\n",
              "  <tbody>\n",
              "    <tr>\n",
              "      <th>0</th>\n",
              "      <td>1</td>\n",
              "      <td>Toy Story (1995)</td>\n",
              "      <td>Adventure|Animation|Children|Comedy|Fantasy</td>\n",
              "    </tr>\n",
              "    <tr>\n",
              "      <th>1</th>\n",
              "      <td>2</td>\n",
              "      <td>Jumanji (1995)</td>\n",
              "      <td>Adventure|Children|Fantasy</td>\n",
              "    </tr>\n",
              "    <tr>\n",
              "      <th>2</th>\n",
              "      <td>3</td>\n",
              "      <td>Grumpier Old Men (1995)</td>\n",
              "      <td>Comedy|Romance</td>\n",
              "    </tr>\n",
              "    <tr>\n",
              "      <th>3</th>\n",
              "      <td>4</td>\n",
              "      <td>Waiting to Exhale (1995)</td>\n",
              "      <td>Comedy|Drama|Romance</td>\n",
              "    </tr>\n",
              "    <tr>\n",
              "      <th>4</th>\n",
              "      <td>5</td>\n",
              "      <td>Father of the Bride Part II (1995)</td>\n",
              "      <td>Comedy</td>\n",
              "    </tr>\n",
              "  </tbody>\n",
              "</table>\n",
              "</div>"
            ],
            "text/plain": [
              "   movieId  ...                                       genres\n",
              "0        1  ...  Adventure|Animation|Children|Comedy|Fantasy\n",
              "1        2  ...                   Adventure|Children|Fantasy\n",
              "2        3  ...                               Comedy|Romance\n",
              "3        4  ...                         Comedy|Drama|Romance\n",
              "4        5  ...                                       Comedy\n",
              "\n",
              "[5 rows x 3 columns]"
            ]
          },
          "metadata": {
            "tags": []
          },
          "execution_count": 27
        }
      ]
    },
    {
      "cell_type": "code",
      "metadata": {
        "id": "HLgrXQhZash2"
      },
      "source": [
        "movieDict = {}\n",
        "for index, row in df_movies.iterrows():    \n",
        "  movieID = int(row['movieId'])\n",
        "  name = row['title']\n",
        "  genres = row[2:].str.split('|')\n",
        "  genres = list(genres.values)  \n",
        "  temp = []\n",
        "  for gen in genre_list:    \n",
        "    if gen in genres[0]:\n",
        "      temp.append(1)\n",
        "    else:\n",
        "      temp.append(0)\n",
        "  movieDict[movieID] = (name, np.array(temp), movieNormalizedNumRatings.loc[movieID].get('size'), movieProperties.loc[movieID].rating.get('mean'))"
      ],
      "execution_count": null,
      "outputs": []
    },
    {
      "cell_type": "code",
      "metadata": {
        "colab": {
          "base_uri": "https://localhost:8080/"
        },
        "id": "trmDre2DbBPg",
        "outputId": "62cc3620-6429-4db8-c1f0-582c6f02ce1b"
      },
      "source": [
        "from scipy import spatial\n",
        " \n",
        "# 장르, 인기도의 cosine 유사도 적용\n",
        "def ComputeDistance(a, b):\n",
        "    genresA = a[1]\n",
        "    genresB = b[1]\n",
        "    genreDistance = spatial.distance.cosine(genresA, genresB)\n",
        "    popularityA = a[2]\n",
        "    popularityB = b[2]\n",
        "    popularityDistance = abs(popularityA - popularityB)\n",
        "    return genreDistance + popularityDistance\n",
        " \n",
        "ComputeDistance(movieDict[1], movieDict[4])"
      ],
      "execution_count": null,
      "outputs": [
        {
          "output_type": "execute_result",
          "data": {
            "text/plain": [
              "1.4080668949792368"
            ]
          },
          "metadata": {
            "tags": []
          },
          "execution_count": 124
        }
      ]
    },
    {
      "cell_type": "code",
      "metadata": {
        "colab": {
          "base_uri": "https://localhost:8080/"
        },
        "id": "3gYBClP22Lqr",
        "outputId": "c84ee99b-7a4d-4b6d-b1dd-831c6934ef02"
      },
      "source": [
        "import operator\n",
        " \n",
        "# neighbors 출력\n",
        "def getNeighbors(movieID, K):\n",
        "    distances = []\n",
        "    for movie in movieDict:\n",
        "        # 같은 movie가 아닐때만 movie distance를 구함\n",
        "        if (movie != movieID):\n",
        "            dist = ComputeDistance(movieDict[movieID], movieDict[movie])\n",
        "            distances.append((movie, dist))\n",
        "    # movie distance를 sort시켜주어 가장 가까운 영화들을 추천\n",
        "    distances.sort(key=operator.itemgetter(1))\n",
        "    neighbors = []\n",
        "    for x in range(K):\n",
        "        neighbors.append(distances[x][0])\n",
        "    return neighbors\n",
        " \n",
        " \n",
        "# 최종 추천\n",
        "def recommend(movieID,K):\n",
        "    avgRating = 0\n",
        "    print(movieDict[movieID], '\\n')\n",
        "    neighbors = getNeighbors(movieID, K) # Toy Story (1995)\n",
        "    for neighbor in neighbors:\n",
        "        # neigbor의 평균 rating을 더해줌\n",
        "        avgRating += movieDict[neighbor][3]\n",
        "        print (movieDict[neighbor][0] + \" \" + str(movieDict[neighbor][3]))\n",
        "    avgRating /= K\n",
        "    print(\"평균 Rating: \",avgRating)\n",
        " \n",
        "recommend(1,10)"
      ],
      "execution_count": null,
      "outputs": [
        {
          "output_type": "stream",
          "text": [
            "('Toy Story (1995)', array([1, 1, 1, 1, 1, 0, 0, 0, 0, 0, 0, 0, 0, 0, 0, 0, 0, 0, 0, 0]), 0.6867107636800962, 3.910761154855643) \n",
            "\n",
            "Shrek (2001) 3.7559456398640996\n",
            "Monsters, Inc. (2001) 3.873502994011976\n",
            "Aladdin (1992) 3.680957683741648\n",
            "Toy Story 2 (1999) 3.825\n",
            "Finding Nemo (2003) 3.8204379562043798\n",
            "Lord of the Rings: The Fellowship of the Ring, The (2001) 4.052607502287283\n",
            "Monty Python and the Holy Grail (1975) 4.166453265044814\n",
            "Lord of the Rings: The Two Towers, The (2002) 4.002994011976048\n",
            "Bug's Life, A (1998) 3.557446808510638\n",
            "Incredibles, The (2004) 3.8423645320197046\n",
            "평균 Rating:  3.8577710393660594\n"
          ],
          "name": "stdout"
        }
      ]
    }
  ]
}